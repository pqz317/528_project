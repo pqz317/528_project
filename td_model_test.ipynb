{
 "cells": [
  {
   "cell_type": "code",
   "execution_count": 36,
   "metadata": {},
   "outputs": [
    {
     "name": "stdout",
     "output_type": "stream",
     "text": [
      "The autoreload extension is already loaded. To reload it, use:\n",
      "  %reload_ext autoreload\n"
     ]
    }
   ],
   "source": [
    "%load_ext autoreload\n",
    "%autoreload 2\n",
    "\n",
    "import numpy as np\n",
    "from models.td_model import TdModel, calc_values_for_td_model\n",
    "from model_fit_utils import fit_model"
   ]
  },
  {
   "cell_type": "markdown",
   "metadata": {},
   "source": [
    "### Test TD-model values look reasonable"
   ]
  },
  {
   "cell_type": "code",
   "execution_count": 14,
   "metadata": {},
   "outputs": [],
   "source": [
    "stimuli_idxs = np.array([0, 2, 2, 0])\n",
    "rewards = np.array([-3, 0, -3, -3])\n",
    "\n",
    "model = calc_values_for_td_model(alpha=0.2, stimuli_idxs=stimuli_idxs, rewards=rewards)"
   ]
  },
  {
   "cell_type": "code",
   "execution_count": 15,
   "metadata": {},
   "outputs": [
    {
     "data": {
      "text/plain": [
       "array([[ 0.  ,  0.  ,  0.  ],\n",
       "       [-0.6 ,  0.  ,  0.  ],\n",
       "       [-0.6 ,  0.  ,  0.  ],\n",
       "       [-0.6 ,  0.  , -0.6 ],\n",
       "       [-1.08,  0.  , -0.6 ]])"
      ]
     },
     "execution_count": 15,
     "metadata": {},
     "output_type": "execute_result"
    }
   ],
   "source": [
    "model.values"
   ]
  },
  {
   "cell_type": "markdown",
   "metadata": {},
   "source": [
    "### Test TD Model Fitting recovers learning rate"
   ]
  },
  {
   "cell_type": "code",
   "execution_count": 18,
   "metadata": {},
   "outputs": [],
   "source": [
    "# create random stimuli and rewards for 100 trials\n",
    "rng = np.random.default_rng(10)\n",
    "stimuli_idxs = rng.choice([0, 1, 2], 100)\n",
    "rewards = rng.choice([-3, 0], 100)\n",
    "\n",
    "# set ground truth alpha, this is what we'll try to recover\n",
    "alpha = 0.2\n",
    "\n",
    "# make a ground truth model\n",
    "ground_truth_model = calc_values_for_td_model(alpha=alpha, stimuli_idxs=stimuli_idxs, rewards=rewards)"
   ]
  },
  {
   "cell_type": "code",
   "execution_count": 38,
   "metadata": {},
   "outputs": [],
   "source": [
    "# use values from ground truth model as behavioral response we'll try to fit on\n",
    "trial_vals = ground_truth_model.values[:-1, :]\n",
    "behavior = trial_vals[np.arange(len(trial_vals)), stimuli_idxs]"
   ]
  },
  {
   "cell_type": "code",
   "execution_count": 43,
   "metadata": {},
   "outputs": [],
   "source": [
    "# fit model with initial guess of 0.5\n",
    "res = fit_model(stimuli_idxs, rewards, behavior, 0.5)"
   ]
  },
  {
   "cell_type": "code",
   "execution_count": 42,
   "metadata": {},
   "outputs": [
    {
     "data": {
      "text/plain": [
       " final_simplex: (array([[0.2       ],\n",
       "       [0.20007813]]), array([6.50179312e-30, 2.83319564e-08]))\n",
       "           fun: 6.501793121575534e-30\n",
       "       message: 'Optimization terminated successfully.'\n",
       "          nfev: 32\n",
       "           nit: 16\n",
       "        status: 0\n",
       "       success: True\n",
       "             x: array([0.2])"
      ]
     },
     "execution_count": 42,
     "metadata": {},
     "output_type": "execute_result"
    }
   ],
   "source": [
    "# show that learning rate gets recovered from model fitting (x param)\n",
    "res"
   ]
  },
  {
   "cell_type": "code",
   "execution_count": null,
   "metadata": {},
   "outputs": [],
   "source": []
  }
 ],
 "metadata": {
  "kernelspec": {
   "display_name": "Python 3.7.3 64-bit",
   "language": "python",
   "name": "python3"
  },
  "language_info": {
   "codemirror_mode": {
    "name": "ipython",
    "version": 3
   },
   "file_extension": ".py",
   "mimetype": "text/x-python",
   "name": "python",
   "nbconvert_exporter": "python",
   "pygments_lexer": "ipython3",
   "version": "3.8.10"
  },
  "orig_nbformat": 4,
  "vscode": {
   "interpreter": {
    "hash": "31f2aee4e71d21fbe5cf8b01ff0e069b9275f58929596ceb00d14d90e3e16cd6"
   }
  }
 },
 "nbformat": 4,
 "nbformat_minor": 2
}
